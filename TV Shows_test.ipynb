{
 "cells": [
  {
   "cell_type": "code",
   "execution_count": null,
   "metadata": {
    "collapsed": true
   },
   "outputs": [],
   "source": [
    "# Process flow\n",
    "# add the name of the show to the list (maintain a list)\n",
    "# search for the name on Wikipedia and IMDB (beautifulsoup)\n",
    "# collect information, clean\n",
    "\n",
    "#option 1:\n",
    "# Save all information in a data structure, (preferrably TREE), append to the tree.\n",
    "# no deletion from the tree?\n",
    "# "
   ]
  }
 ],
 "metadata": {
  "kernelspec": {
   "display_name": "Python 3",
   "language": "python",
   "name": "python3"
  },
  "language_info": {
   "codemirror_mode": {
    "name": "ipython",
    "version": 3
   },
   "file_extension": ".py",
   "mimetype": "text/x-python",
   "name": "python",
   "nbconvert_exporter": "python",
   "pygments_lexer": "ipython3",
   "version": "3.6.0"
  }
 },
 "nbformat": 4,
 "nbformat_minor": 2
}
