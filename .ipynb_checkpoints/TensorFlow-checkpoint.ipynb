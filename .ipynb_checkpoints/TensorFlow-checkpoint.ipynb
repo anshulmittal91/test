{
 "cells": [
  {
   "cell_type": "code",
   "execution_count": 2,
   "metadata": {
    "collapsed": false
   },
   "outputs": [
    {
     "name": "stdout",
     "output_type": "stream",
     "text": [
      "Collecting tensorflow\n",
      "  Downloading tensorflow-1.1.0-cp35-cp35m-win_amd64.whl (19.4MB)\n",
      "Requirement already satisfied: six>=1.10.0 in c:\\users\\localuser\\anaconda3\\envs\\py35\\lib\\site-packages (from tensorflow)\n",
      "Collecting protobuf>=3.2.0 (from tensorflow)\n",
      "  Downloading protobuf-3.3.0.tar.gz (271kB)\n",
      "Requirement already satisfied: werkzeug>=0.11.10 in c:\\users\\localuser\\anaconda3\\envs\\py35\\lib\\site-packages (from tensorflow)\n",
      "Requirement already satisfied: numpy>=1.11.0 in c:\\users\\localuser\\anaconda3\\envs\\py35\\lib\\site-packages (from tensorflow)\n",
      "Requirement already satisfied: wheel>=0.26 in c:\\users\\localuser\\anaconda3\\envs\\py35\\lib\\site-packages (from tensorflow)\n",
      "Requirement already satisfied: setuptools in c:\\users\\localuser\\anaconda3\\envs\\py35\\lib\\site-packages\\setuptools-27.2.0-py3.5.egg (from protobuf>=3.2.0->tensorflow)\n",
      "Building wheels for collected packages: protobuf\n",
      "  Running setup.py bdist_wheel for protobuf: started\n",
      "  Running setup.py bdist_wheel for protobuf: finished with status 'done'\n",
      "  Stored in directory: C:\\Users\\LocalUser\\AppData\\Local\\pip\\Cache\\wheels\\1b\\42\\a0\\4c7343df5b629ec9c75655468dce7652b28026896b0209ba55\n",
      "Successfully built protobuf\n",
      "Installing collected packages: protobuf, tensorflow\n",
      "Successfully installed protobuf-3.3.0 tensorflow-1.1.0\n"
     ]
    }
   ],
   "source": [
    "!pip install tensorflow"
   ]
  },
  {
   "cell_type": "code",
   "execution_count": 3,
   "metadata": {
    "collapsed": false
   },
   "outputs": [],
   "source": [
    "#!pip install https://storage.googleapis.com/tensorflow/linux/cpu/tensorflow-0.10.0rc0-cp27-none-linux_x86_64.whl"
   ]
  },
  {
   "cell_type": "code",
   "execution_count": 4,
   "metadata": {
    "collapsed": false
   },
   "outputs": [
    {
     "name": "stdout",
     "output_type": "stream",
     "text": [
      "3.5.2\n"
     ]
    }
   ],
   "source": [
    "#import sys\n",
    "#sys.version\n",
    "#sys.version_info\n",
    "import platform\n",
    "print(platform.python_version())"
   ]
  },
  {
   "cell_type": "code",
   "execution_count": 16,
   "metadata": {
    "collapsed": false
   },
   "outputs": [],
   "source": [
    "#graphs and session\n",
    "import tensorflow as tf"
   ]
  },
  {
   "cell_type": "code",
   "execution_count": 20,
   "metadata": {
    "collapsed": false
   },
   "outputs": [],
   "source": [
    "graph = tf.Graph()\n",
    "with graph.as_default():\n",
    "    variable = tf.Variable(42, name='foo')\n",
    "    initialize = tf.global_variables_initializer()\n",
    "    assign = variable.assign(13)"
   ]
  },
  {
   "cell_type": "code",
   "execution_count": 25,
   "metadata": {
    "collapsed": false
   },
   "outputs": [
    {
     "name": "stdout",
     "output_type": "stream",
     "text": [
      "42\n",
      "13\n"
     ]
    }
   ],
   "source": [
    "with tf.Session(graph=graph) as sess:\n",
    "  sess.run(initialize)\n",
    "  print(sess.run(variable))\n",
    "  sess.run(assign)\n",
    "  print(sess.run(variable))\n",
    "# Output: 42"
   ]
  },
  {
   "cell_type": "code",
   "execution_count": 27,
   "metadata": {
    "collapsed": false
   },
   "outputs": [],
   "source": [
    "#with tf.Session(graph=graph) as sess:\n",
    "#  print(sess.run(variable))"
   ]
  },
  {
   "cell_type": "code",
   "execution_count": null,
   "metadata": {
    "collapsed": true
   },
   "outputs": [],
   "source": [
    "#iris dataset\n",
    "iris = tf.contrib.learn.datasets.load_dataset('iris')"
   ]
  }
 ],
 "metadata": {
  "kernelspec": {
   "display_name": "Python 3",
   "language": "python",
   "name": "python3"
  },
  "language_info": {
   "codemirror_mode": {
    "name": "ipython",
    "version": 3
   },
   "file_extension": ".py",
   "mimetype": "text/x-python",
   "name": "python",
   "nbconvert_exporter": "python",
   "pygments_lexer": "ipython3",
   "version": "3.5.2"
  }
 },
 "nbformat": 4,
 "nbformat_minor": 2
}
