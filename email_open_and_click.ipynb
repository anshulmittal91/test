{
 "cells": [
  {
   "cell_type": "code",
   "execution_count": 2,
   "metadata": {
    "collapsed": false
   },
   "outputs": [
    {
     "name": "stdout",
     "output_type": "stream",
     "text": [
      "Collecting pytracking\n",
      "  Downloading pytracking-0.1.0-py2.py3-none-any.whl\n",
      "Installing collected packages: pytracking\n",
      "Successfully installed pytracking-0.1.0\n"
     ]
    }
   ],
   "source": [
    "!pip install pytracking"
   ]
  },
  {
   "cell_type": "code",
   "execution_count": 4,
   "metadata": {
    "collapsed": false
   },
   "outputs": [],
   "source": [
    "#https://www.linkedin.com/in/anshulmittal91/\n",
    "import pytracking\n",
    "\n",
    "open_tracking_url = pytracking.get_open_tracking_url(\n",
    "    {\"customer_id\": 1}, base_open_tracking_url=\"https://www.linkedin.com/in/anshulmittal91/\",\n",
    "    webhook_url=\"http://requestb.in/123\", include_webhook_url=True)"
   ]
  },
  {
   "cell_type": "code",
   "execution_count": 5,
   "metadata": {
    "collapsed": false
   },
   "outputs": [
    {
     "data": {
      "text/plain": [
       "'https://www.linkedin.com/in/anshulmittal91/eyJtZXRhZGF0YSI6IHsiY3VzdG9tZXJfaWQiOiAxfSwgIndlYmhvb2siOiAiaHR0cDovL3JlcXVlc3RiLmluLzEyMyJ9'"
      ]
     },
     "execution_count": 5,
     "metadata": {},
     "output_type": "execute_result"
    }
   ],
   "source": [
    "open_tracking_url"
   ]
  },
  {
   "cell_type": "code",
   "execution_count": 6,
   "metadata": {
    "collapsed": true
   },
   "outputs": [],
   "source": [
    "click_tracking_url = pytracking.get_click_tracking_url(\n",
    "    \"http://www.example.com/?query=value\", {\"customer_id\": 1},\n",
    "    base_click_tracking_url=\"https://www.linkedin.com/in/anshulmittal91/\",\n",
    "    webhook_url=\"http://requestb.in/123\", include_webhook_url=True)\n",
    "\n",
    "# This will produce a URL such as:\n",
    "# https://trackingdomain.com/path/e30203jhd9239754jh21387293jhf989sda="
   ]
  },
  {
   "cell_type": "code",
   "execution_count": 7,
   "metadata": {
    "collapsed": false
   },
   "outputs": [
    {
     "data": {
      "text/plain": [
       "'https://www.linkedin.com/in/anshulmittal91/eyJ1cmwiOiAiaHR0cDovL3d3dy5leGFtcGxlLmNvbS8_cXVlcnk9dmFsdWUiLCAibWV0YWRhdGEiOiB7ImN1c3RvbWVyX2lkIjogMX0sICJ3ZWJob29rIjogImh0dHA6Ly9yZXF1ZXN0Yi5pbi8xMjMifQ=='"
      ]
     },
     "execution_count": 7,
     "metadata": {},
     "output_type": "execute_result"
    }
   ],
   "source": [
    "click_tracking_url"
   ]
  },
  {
   "cell_type": "code",
   "execution_count": 8,
   "metadata": {
    "collapsed": true
   },
   "outputs": [],
   "source": [
    "full_url = \"https://www.linkedin.com/in/anshulmittal91/eyJtZXRhZGF0YSI6IHsiY3VzdG9tZXJfaWQiOiAxfSwgIndlYmhvb2siOiAiaHR0cDovL3JlcXVlc3RiLmluLzEyMyJ9\"\n",
    "tracking_result = pytracking.get_open_tracking_result(\n",
    "    full_url, base_open_tracking_url=\"https://www.linkedin.com/in/anshulmittal91/\")\n",
    "\n",
    "# Metadata is in tracking_result.metadata\n",
    "# Webhook URL is in tracking_result.webhook_url"
   ]
  },
  {
   "cell_type": "code",
   "execution_count": 9,
   "metadata": {
    "collapsed": false
   },
   "outputs": [
    {
     "data": {
      "text/plain": [
       "{'customer_id': 1}"
      ]
     },
     "execution_count": 9,
     "metadata": {},
     "output_type": "execute_result"
    }
   ],
   "source": [
    "tracking_result.metadata"
   ]
  },
  {
   "cell_type": "code",
   "execution_count": 10,
   "metadata": {
    "collapsed": true
   },
   "outputs": [],
   "source": [
    "tracking_result.webhook_url"
   ]
  },
  {
   "cell_type": "code",
   "execution_count": 13,
   "metadata": {
    "collapsed": false
   },
   "outputs": [
    {
     "ename": "UnicodeDecodeError",
     "evalue": "'utf-8' codec can't decode byte 0x86 in position 0: invalid start byte",
     "output_type": "error",
     "traceback": [
      "\u001b[1;31m---------------------------------------------------------------------------\u001b[0m",
      "\u001b[1;31mUnicodeDecodeError\u001b[0m                        Traceback (most recent call last)",
      "\u001b[1;32m<ipython-input-13-929ac99be219>\u001b[0m in \u001b[0;36m<module>\u001b[1;34m()\u001b[0m\n\u001b[0;32m      1\u001b[0m \u001b[0mfull_url\u001b[0m \u001b[1;33m=\u001b[0m \u001b[1;34m\"https://www.linkedin.com/in/anshulmittal91/eyJ1cmwiOiAiaHR0cDovL3d3dy5leGFtcGxlLmNvbS8_cXVlcnk9dmFsdWUiLCAibWV0YWRhdGEiOiB7ImN1c3RvbWVyX2lkIjogMX0sICJ3ZWJob29rIjogImh0dHA6Ly9yZXF1ZXN0Yi5pbi8xMjMifQ==\"\u001b[0m\u001b[1;33m\u001b[0m\u001b[0m\n\u001b[0;32m      2\u001b[0m tracking_result = pytracking.get_open_tracking_result(\n\u001b[1;32m----> 3\u001b[1;33m     full_url, base_click_tracking_url=\"https://www.linkedin.com/in/anshulmittal91/\")\n\u001b[0m\u001b[0;32m      4\u001b[0m \u001b[1;33m\u001b[0m\u001b[0m\n\u001b[0;32m      5\u001b[0m \u001b[1;31m# Metadata is in tracking_result.metadata\u001b[0m\u001b[1;33m\u001b[0m\u001b[1;33m\u001b[0m\u001b[0m\n",
      "\u001b[1;32mC:\\Users\\LocalUser\\Anaconda3\\lib\\site-packages\\pytracking\\tracking.py\u001b[0m in \u001b[0;36mget_open_tracking_result\u001b[1;34m(encoded_url_path, request_data, configuration, **kwargs)\u001b[0m\n\u001b[0;32m    378\u001b[0m             encoded_url_path, configuration)\n\u001b[0;32m    379\u001b[0m     return configuration.get_tracking_result(\n\u001b[1;32m--> 380\u001b[1;33m         encoded_url_path, request_data, is_open=True)\n\u001b[0m\u001b[0;32m    381\u001b[0m \u001b[1;33m\u001b[0m\u001b[0m\n\u001b[0;32m    382\u001b[0m \u001b[1;33m\u001b[0m\u001b[0m\n",
      "\u001b[1;32mC:\\Users\\LocalUser\\Anaconda3\\lib\\site-packages\\pytracking\\tracking.py\u001b[0m in \u001b[0;36mget_tracking_result\u001b[1;34m(self, encoded_url_path, request_data, is_open)\u001b[0m\n\u001b[0;32m    179\u001b[0m             payload = base64.urlsafe_b64decode(\n\u001b[0;32m    180\u001b[0m                 \u001b[0mencoded_url_path\u001b[0m\u001b[1;33m.\u001b[0m\u001b[0mencode\u001b[0m\u001b[1;33m(\u001b[0m\u001b[0mself\u001b[0m\u001b[1;33m.\u001b[0m\u001b[0mencoding\u001b[0m\u001b[1;33m)\u001b[0m\u001b[1;33m)\u001b[0m\u001b[1;33m.\u001b[0m\u001b[0mdecode\u001b[0m\u001b[1;33m(\u001b[0m\u001b[1;33m\u001b[0m\u001b[0m\n\u001b[1;32m--> 181\u001b[1;33m                     self.encoding)\n\u001b[0m\u001b[0;32m    182\u001b[0m         \u001b[0mdata\u001b[0m \u001b[1;33m=\u001b[0m \u001b[0mjson\u001b[0m\u001b[1;33m.\u001b[0m\u001b[0mloads\u001b[0m\u001b[1;33m(\u001b[0m\u001b[0mpayload\u001b[0m\u001b[1;33m)\u001b[0m\u001b[1;33m\u001b[0m\u001b[0m\n\u001b[0;32m    183\u001b[0m \u001b[1;33m\u001b[0m\u001b[0m\n",
      "\u001b[1;31mUnicodeDecodeError\u001b[0m: 'utf-8' codec can't decode byte 0x86 in position 0: invalid start byte"
     ]
    }
   ],
   "source": [
    "full_url = \"https://www.linkedin.com/in/anshulmittal91/eyJ1cmwiOiAiaHR0cDovL3d3dy5leGFtcGxlLmNvbS8_cXVlcnk9dmFsdWUiLCAibWV0YWRhdGEiOiB7ImN1c3RvbWVyX2lkIjogMX0sICJ3ZWJob29rIjogImh0dHA6Ly9yZXF1ZXN0Yi5pbi8xMjMifQ==\"\n",
    "tracking_result = pytracking.get_open_tracking_result(\n",
    "    full_url, base_click_tracking_url=\"https://www.linkedin.com/in/anshulmittal91/\")\n",
    "\n",
    "# Metadata is in tracking_result.metadata\n",
    "# Webhook URL is in tracking_result.webhook_url\n",
    "# Tracked URL to redirect to is in tracking_result.tracked_url"
   ]
  },
  {
   "cell_type": "code",
   "execution_count": null,
   "metadata": {
    "collapsed": true
   },
   "outputs": [],
   "source": []
  }
 ],
 "metadata": {
  "kernelspec": {
   "display_name": "Python 3",
   "language": "python",
   "name": "python3"
  },
  "language_info": {
   "codemirror_mode": {
    "name": "ipython",
    "version": 3
   },
   "file_extension": ".py",
   "mimetype": "text/x-python",
   "name": "python",
   "nbconvert_exporter": "python",
   "pygments_lexer": "ipython3",
   "version": "3.6.0"
  }
 },
 "nbformat": 4,
 "nbformat_minor": 2
}
